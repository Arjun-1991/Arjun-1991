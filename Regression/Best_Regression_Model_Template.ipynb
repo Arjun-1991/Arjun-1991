{
 "cells": [
  {
   "cell_type": "markdown",
   "id": "14857493",
   "metadata": {},
   "source": [
    "# 1. Multiple Linear Regression"
   ]
  },
  {
   "cell_type": "markdown",
   "id": "0cee7c2a",
   "metadata": {},
   "source": [
    "### Importing the libraries"
   ]
  },
  {
   "cell_type": "code",
   "execution_count": null,
   "id": "f3c7e523",
   "metadata": {},
   "outputs": [],
   "source": [
    "import numpy as np\n",
    "import matplotlib.pyplot as plt\n",
    "import pandas as pd"
   ]
  },
  {
   "cell_type": "markdown",
   "id": "eb8d88e6",
   "metadata": {},
   "source": [
    "### Importing the dataset"
   ]
  },
  {
   "cell_type": "code",
   "execution_count": null,
   "id": "de80af5a",
   "metadata": {},
   "outputs": [],
   "source": [
    "dataset = pd.read_csv('ENTER_THE_NAME_OF_YOUR_DATASET_HERE.csv')\n",
    "X = dataset.iloc[:, :-1].values\n",
    "y = dataset.iloc[:, -1].values"
   ]
  },
  {
   "cell_type": "markdown",
   "id": "54521f1c",
   "metadata": {},
   "source": [
    "### Splitting the dataset into the Training set and Test set"
   ]
  },
  {
   "cell_type": "code",
   "execution_count": null,
   "id": "353ba9ba",
   "metadata": {},
   "outputs": [],
   "source": [
    "from sklearn.model_selection import train_test_split\n",
    "X_train, X_test, y_train, y_test = train_test_split(X, y, test_size = 0.2, random_state = 0)"
   ]
  },
  {
   "cell_type": "markdown",
   "id": "831a2253",
   "metadata": {},
   "source": [
    "### Training the Multiple Linear Regression model on the Training set"
   ]
  },
  {
   "cell_type": "code",
   "execution_count": null,
   "id": "f6d09b15",
   "metadata": {},
   "outputs": [],
   "source": [
    "from sklearn.linear_model import LinearRegression\n",
    "regressor = LinearRegression()\n",
    "regressor.fit(X_train, y_train)"
   ]
  },
  {
   "cell_type": "markdown",
   "id": "093d9d47",
   "metadata": {},
   "source": [
    "### Predicting the Test set results"
   ]
  },
  {
   "cell_type": "code",
   "execution_count": null,
   "id": "5a893364",
   "metadata": {},
   "outputs": [],
   "source": [
    "y_pred_multi = regressor.predict(X_test)\n",
    "np.set_printoptions(precision=2)\n",
    "print(np.concatenate((y_pred_multi.reshape(len(y_pred_multi),1), y_test.reshape(len(y_test),1)),1))"
   ]
  },
  {
   "cell_type": "markdown",
   "id": "ac13dd88",
   "metadata": {},
   "source": [
    "### Evaluating the Model Performance"
   ]
  },
  {
   "cell_type": "code",
   "execution_count": null,
   "id": "eb6d4e5d",
   "metadata": {},
   "outputs": [],
   "source": [
    "from sklearn.metrics import r2_score\n",
    "r2_score(y_test, y_pred_multi)"
   ]
  },
  {
   "cell_type": "markdown",
   "id": "ee0a9f2b",
   "metadata": {},
   "source": [
    "## The R_squared Value from muliple linear regression model is"
   ]
  },
  {
   "cell_type": "markdown",
   "id": "90b2381d",
   "metadata": {},
   "source": [
    "# 2. Polynomial Regression"
   ]
  },
  {
   "cell_type": "markdown",
   "id": "b241e050",
   "metadata": {},
   "source": [
    "After importing libraries, datasets and splitting"
   ]
  },
  {
   "cell_type": "markdown",
   "id": "6fd75160",
   "metadata": {},
   "source": [
    "### Training the Polynomial Regression model on the Training set"
   ]
  },
  {
   "cell_type": "code",
   "execution_count": null,
   "id": "de04f1db",
   "metadata": {},
   "outputs": [],
   "source": [
    "from sklearn.preprocessing import PolynomialFeatures\n",
    "from sklearn.linear_model import LinearRegression\n",
    "poly_reg = PolynomialFeatures(degree = 4)\n",
    "X_poly = poly_reg.fit_transform(X_train)\n",
    "regressor = LinearRegression()\n",
    "regressor.fit(X_poly, y_train)"
   ]
  },
  {
   "cell_type": "markdown",
   "id": "04d67527",
   "metadata": {},
   "source": [
    "### Predicting the Test set results"
   ]
  },
  {
   "cell_type": "code",
   "execution_count": null,
   "id": "8c70bbc0",
   "metadata": {},
   "outputs": [],
   "source": [
    "y_pred_poly = regressor.predict(poly_reg.transform(X_test))\n",
    "np.set_printoptions(precision=2)\n",
    "print(np.concatenate((y_pred_poly.reshape(len(y_pred_poly),1), y_test.reshape(len(y_test),1)),1))"
   ]
  },
  {
   "cell_type": "markdown",
   "id": "2e4be4cd",
   "metadata": {},
   "source": [
    "### Evaluating the Model Performance"
   ]
  },
  {
   "cell_type": "code",
   "execution_count": null,
   "id": "35d1eb7e",
   "metadata": {},
   "outputs": [],
   "source": [
    "from sklearn.metrics import r2_score\n",
    "r2_score(y_test, y_pred_poly)"
   ]
  },
  {
   "cell_type": "markdown",
   "id": "aed3f4d8",
   "metadata": {},
   "source": [
    "## The R_squared Value from Polynomial regression model is"
   ]
  },
  {
   "cell_type": "markdown",
   "id": "6b5456db",
   "metadata": {},
   "source": [
    "# 3. Support Vector Regression (SVR)"
   ]
  },
  {
   "cell_type": "markdown",
   "id": "1a6d319d",
   "metadata": {},
   "source": [
    "### Importing the dataset"
   ]
  },
  {
   "cell_type": "code",
   "execution_count": null,
   "id": "6463e8ef",
   "metadata": {},
   "outputs": [],
   "source": [
    "dataset = pd.read_csv('ENTER_THE_NAME_OF_YOUR_DATASET_HERE.csv')\n",
    "X = dataset.iloc[:, :-1].values\n",
    "y = dataset.iloc[:, -1].values"
   ]
  },
  {
   "cell_type": "code",
   "execution_count": null,
   "id": "ff13278f",
   "metadata": {},
   "outputs": [],
   "source": [
    "y = y.reshape(len(y),1)"
   ]
  },
  {
   "cell_type": "markdown",
   "id": "10faf5d5",
   "metadata": {},
   "source": [
    "### Splitting the dataset into the Training set and Test set"
   ]
  },
  {
   "cell_type": "code",
   "execution_count": null,
   "id": "72515af4",
   "metadata": {},
   "outputs": [],
   "source": [
    "from sklearn.model_selection import train_test_split\n",
    "X_train, X_test, y_train, y_test = train_test_split(X, y, test_size = 0.2, random_state = 0)"
   ]
  },
  {
   "cell_type": "markdown",
   "id": "c1abbedd",
   "metadata": {},
   "source": [
    "### Feature Scaling"
   ]
  },
  {
   "cell_type": "code",
   "execution_count": null,
   "id": "47445ba9",
   "metadata": {},
   "outputs": [],
   "source": [
    "from sklearn.preprocessing import StandardScaler\n",
    "sc_X = StandardScaler()\n",
    "sc_y = StandardScaler()\n",
    "X_train = sc_X.fit_transform(X_train)\n",
    "y_train = sc_y.fit_transform(y_train)"
   ]
  },
  {
   "cell_type": "markdown",
   "id": "b819327d",
   "metadata": {},
   "source": [
    "### Training the SVR model on the Training set"
   ]
  },
  {
   "cell_type": "code",
   "execution_count": null,
   "id": "8ad24583",
   "metadata": {},
   "outputs": [],
   "source": [
    "from sklearn.svm import SVR\n",
    "regressor = SVR(kernel = 'rbf')\n",
    "regressor.fit(X_train, y_train)"
   ]
  },
  {
   "cell_type": "markdown",
   "id": "53bac094",
   "metadata": {},
   "source": [
    "### Predicting the Test set results"
   ]
  },
  {
   "cell_type": "code",
   "execution_count": null,
   "id": "259f2da4",
   "metadata": {},
   "outputs": [],
   "source": [
    "y_pred_svr = sc_y.inverse_transform(regressor.predict(sc_X.transform(X_test)).reshape(-1,1))\n",
    "np.set_printoptions(precision=2)\n",
    "print(np.concatenate((y_pred_svr.reshape(len(y_pred_svr),1), y_test.reshape(len(y_test),1)),1))"
   ]
  },
  {
   "cell_type": "markdown",
   "id": "9b0935e3",
   "metadata": {},
   "source": [
    "### Evaluating the Model Performance"
   ]
  },
  {
   "cell_type": "code",
   "execution_count": null,
   "id": "1c4615da",
   "metadata": {},
   "outputs": [],
   "source": [
    "from sklearn.metrics import r2_score\n",
    "r2_score(y_test, y_pred_svr)"
   ]
  },
  {
   "cell_type": "markdown",
   "id": "9b220df5",
   "metadata": {},
   "source": [
    "## The R_squared Value from Support vector regression model is"
   ]
  },
  {
   "cell_type": "markdown",
   "id": "3d89dd2e",
   "metadata": {},
   "source": [
    "# 4.Decision Tree Regression"
   ]
  },
  {
   "cell_type": "markdown",
   "id": "5c1c7e6a",
   "metadata": {},
   "source": [
    "After Importing Libraries, datasets and splitting"
   ]
  },
  {
   "cell_type": "markdown",
   "id": "b3df1336",
   "metadata": {},
   "source": [
    "### Training the Decision Tree Regression model on the Training set"
   ]
  },
  {
   "cell_type": "code",
   "execution_count": null,
   "id": "d77c7d9c",
   "metadata": {},
   "outputs": [],
   "source": [
    "from sklearn.tree import DecisionTreeRegressor\n",
    "regressor = DecisionTreeRegressor(random_state = 0)\n",
    "regressor.fit(X_train, y_train)"
   ]
  },
  {
   "cell_type": "markdown",
   "id": "a4bfab06",
   "metadata": {},
   "source": [
    "### Predicting the Test set results"
   ]
  },
  {
   "cell_type": "code",
   "execution_count": null,
   "id": "48831c99",
   "metadata": {},
   "outputs": [],
   "source": [
    "y_pred_deci = regressor.predict(X_test)\n",
    "np.set_printoptions(precision=2)\n",
    "print(np.concatenate((y_pred_deci.reshape(len(y_pred_deci),1), y_test.reshape(len(y_test),1)),1))"
   ]
  },
  {
   "cell_type": "markdown",
   "id": "076f6de0",
   "metadata": {},
   "source": [
    "### Evaluating the Model Performance"
   ]
  },
  {
   "cell_type": "code",
   "execution_count": null,
   "id": "eacb59bd",
   "metadata": {},
   "outputs": [],
   "source": [
    "from sklearn.metrics import r2_score\n",
    "r2_score(y_test, y_pred_deci)"
   ]
  },
  {
   "cell_type": "markdown",
   "id": "bd6225b0",
   "metadata": {},
   "source": [
    "## The R_squared Value from Decision tree regression model is"
   ]
  },
  {
   "cell_type": "markdown",
   "id": "65e4b0cd",
   "metadata": {},
   "source": [
    "# 5. Random Forest Regression"
   ]
  },
  {
   "cell_type": "markdown",
   "id": "1b248364",
   "metadata": {},
   "source": [
    "After importing libraries, datasets and spliting"
   ]
  },
  {
   "cell_type": "markdown",
   "id": "f872d557",
   "metadata": {},
   "source": [
    "### Training the Random Forest Regression model on the whole dataset"
   ]
  },
  {
   "cell_type": "code",
   "execution_count": null,
   "id": "14159ae5",
   "metadata": {},
   "outputs": [],
   "source": [
    "from sklearn.ensemble import RandomForestRegressor\n",
    "regressor = RandomForestRegressor(n_estimators = 10, random_state = 0)\n",
    "regressor.fit(X_train, y_train)"
   ]
  },
  {
   "cell_type": "markdown",
   "id": "46165991",
   "metadata": {},
   "source": [
    "### Predicting the Test set results"
   ]
  },
  {
   "cell_type": "code",
   "execution_count": null,
   "id": "d5aacba3",
   "metadata": {},
   "outputs": [],
   "source": [
    "y_pred_random = regressor.predict(X_test)\n",
    "np.set_printoptions(precision=2)\n",
    "print(np.concatenate((y_pred_random.reshape(len(y_pred_random),1), y_test.reshape(len(y_test),1)),1))"
   ]
  },
  {
   "cell_type": "markdown",
   "id": "72c88edb",
   "metadata": {},
   "source": [
    "### Evaluating the Model Performance"
   ]
  },
  {
   "cell_type": "code",
   "execution_count": null,
   "id": "8cfdfaf7",
   "metadata": {},
   "outputs": [],
   "source": [
    "from sklearn.metrics import r2_score\n",
    "r2_score(y_test, y_pred_random)"
   ]
  }
 ],
 "metadata": {
  "kernelspec": {
   "display_name": "Python 3 (ipykernel)",
   "language": "python",
   "name": "python3"
  },
  "language_info": {
   "codemirror_mode": {
    "name": "ipython",
    "version": 3
   },
   "file_extension": ".py",
   "mimetype": "text/x-python",
   "name": "python",
   "nbconvert_exporter": "python",
   "pygments_lexer": "ipython3",
   "version": "3.9.12"
  }
 },
 "nbformat": 4,
 "nbformat_minor": 5
}
